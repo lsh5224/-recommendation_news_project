{
 "cells": [
  {
   "cell_type": "code",
   "execution_count": 1,
   "metadata": {},
   "outputs": [
    {
     "name": "stdout",
     "output_type": "stream",
     "text": [
      "Requirement already satisfied: bertopic in /home/user/anaconda3/envs/pandas/lib/python3.9/site-packages (0.15.0)\n",
      "Requirement already satisfied: numpy>=1.20.0 in /home/user/anaconda3/envs/pandas/lib/python3.9/site-packages (from bertopic) (1.24.3)\n",
      "Requirement already satisfied: hdbscan>=0.8.29 in /home/user/anaconda3/envs/pandas/lib/python3.9/site-packages (from bertopic) (0.8.33)\n",
      "Requirement already satisfied: umap-learn>=0.5.0 in /home/user/anaconda3/envs/pandas/lib/python3.9/site-packages (from bertopic) (0.5.4)\n",
      "Requirement already satisfied: pandas>=1.1.5 in /home/user/anaconda3/envs/pandas/lib/python3.9/site-packages (from bertopic) (1.5.3)\n",
      "Requirement already satisfied: scikit-learn>=0.22.2.post1 in /home/user/anaconda3/envs/pandas/lib/python3.9/site-packages (from bertopic) (1.3.0)\n",
      "Requirement already satisfied: tqdm>=4.41.1 in /home/user/anaconda3/envs/pandas/lib/python3.9/site-packages (from bertopic) (4.66.1)\n",
      "Requirement already satisfied: sentence-transformers>=0.4.1 in /home/user/anaconda3/envs/pandas/lib/python3.9/site-packages (from bertopic) (2.2.2)\n",
      "Requirement already satisfied: plotly>=4.7.0 in /home/user/anaconda3/envs/pandas/lib/python3.9/site-packages (from bertopic) (5.17.0)\n",
      "Requirement already satisfied: cython<3,>=0.27 in /home/user/anaconda3/envs/pandas/lib/python3.9/site-packages (from hdbscan>=0.8.29->bertopic) (0.29.36)\n",
      "Requirement already satisfied: scipy>=1.0 in /home/user/anaconda3/envs/pandas/lib/python3.9/site-packages (from hdbscan>=0.8.29->bertopic) (1.11.2)\n",
      "Requirement already satisfied: joblib>=1.0 in /home/user/anaconda3/envs/pandas/lib/python3.9/site-packages (from hdbscan>=0.8.29->bertopic) (1.3.2)\n",
      "Requirement already satisfied: python-dateutil>=2.8.1 in /home/user/anaconda3/envs/pandas/lib/python3.9/site-packages (from pandas>=1.1.5->bertopic) (2.8.2)\n",
      "Requirement already satisfied: pytz>=2020.1 in /home/user/anaconda3/envs/pandas/lib/python3.9/site-packages (from pandas>=1.1.5->bertopic) (2022.7)\n",
      "Requirement already satisfied: tenacity>=6.2.0 in /home/user/anaconda3/envs/pandas/lib/python3.9/site-packages (from plotly>=4.7.0->bertopic) (8.2.3)\n",
      "Requirement already satisfied: packaging in /home/user/anaconda3/envs/pandas/lib/python3.9/site-packages (from plotly>=4.7.0->bertopic) (23.1)\n",
      "Requirement already satisfied: threadpoolctl>=2.0.0 in /home/user/anaconda3/envs/pandas/lib/python3.9/site-packages (from scikit-learn>=0.22.2.post1->bertopic) (3.2.0)\n",
      "Requirement already satisfied: transformers<5.0.0,>=4.6.0 in /home/user/anaconda3/envs/pandas/lib/python3.9/site-packages (from sentence-transformers>=0.4.1->bertopic) (4.33.2)\n",
      "Requirement already satisfied: torch>=1.6.0 in /home/user/anaconda3/envs/pandas/lib/python3.9/site-packages (from sentence-transformers>=0.4.1->bertopic) (2.0.1)\n",
      "Requirement already satisfied: torchvision in /home/user/anaconda3/envs/pandas/lib/python3.9/site-packages (from sentence-transformers>=0.4.1->bertopic) (0.15.2)\n",
      "Requirement already satisfied: nltk in /home/user/anaconda3/envs/pandas/lib/python3.9/site-packages (from sentence-transformers>=0.4.1->bertopic) (3.8.1)\n",
      "Requirement already satisfied: sentencepiece in /home/user/anaconda3/envs/pandas/lib/python3.9/site-packages (from sentence-transformers>=0.4.1->bertopic) (0.1.99)\n",
      "Requirement already satisfied: huggingface-hub>=0.4.0 in /home/user/anaconda3/envs/pandas/lib/python3.9/site-packages (from sentence-transformers>=0.4.1->bertopic) (0.17.2)\n",
      "Requirement already satisfied: numba>=0.51.2 in /home/user/anaconda3/envs/pandas/lib/python3.9/site-packages (from umap-learn>=0.5.0->bertopic) (0.57.1)\n",
      "Requirement already satisfied: pynndescent>=0.5 in /home/user/anaconda3/envs/pandas/lib/python3.9/site-packages (from umap-learn>=0.5.0->bertopic) (0.5.10)\n",
      "Requirement already satisfied: tbb>=2019.0 in /home/user/anaconda3/envs/pandas/lib/python3.9/site-packages (from umap-learn>=0.5.0->bertopic) (2021.10.0)\n",
      "Requirement already satisfied: filelock in /home/user/anaconda3/envs/pandas/lib/python3.9/site-packages (from huggingface-hub>=0.4.0->sentence-transformers>=0.4.1->bertopic) (3.12.4)\n",
      "Requirement already satisfied: fsspec in /home/user/anaconda3/envs/pandas/lib/python3.9/site-packages (from huggingface-hub>=0.4.0->sentence-transformers>=0.4.1->bertopic) (2023.9.1)\n",
      "Requirement already satisfied: requests in /home/user/anaconda3/envs/pandas/lib/python3.9/site-packages (from huggingface-hub>=0.4.0->sentence-transformers>=0.4.1->bertopic) (2.29.0)\n",
      "Requirement already satisfied: pyyaml>=5.1 in /home/user/anaconda3/envs/pandas/lib/python3.9/site-packages (from huggingface-hub>=0.4.0->sentence-transformers>=0.4.1->bertopic) (6.0.1)\n",
      "Requirement already satisfied: typing-extensions>=3.7.4.3 in /home/user/anaconda3/envs/pandas/lib/python3.9/site-packages (from huggingface-hub>=0.4.0->sentence-transformers>=0.4.1->bertopic) (4.6.3)\n",
      "Requirement already satisfied: llvmlite<0.41,>=0.40.0dev0 in /home/user/anaconda3/envs/pandas/lib/python3.9/site-packages (from numba>=0.51.2->umap-learn>=0.5.0->bertopic) (0.40.1)\n",
      "Requirement already satisfied: six>=1.5 in /home/user/anaconda3/envs/pandas/lib/python3.9/site-packages (from python-dateutil>=2.8.1->pandas>=1.1.5->bertopic) (1.16.0)\n",
      "Requirement already satisfied: sympy in /home/user/anaconda3/envs/pandas/lib/python3.9/site-packages (from torch>=1.6.0->sentence-transformers>=0.4.1->bertopic) (1.12)\n",
      "Requirement already satisfied: networkx in /home/user/anaconda3/envs/pandas/lib/python3.9/site-packages (from torch>=1.6.0->sentence-transformers>=0.4.1->bertopic) (3.1)\n",
      "Requirement already satisfied: jinja2 in /home/user/anaconda3/envs/pandas/lib/python3.9/site-packages (from torch>=1.6.0->sentence-transformers>=0.4.1->bertopic) (3.1.2)\n",
      "Requirement already satisfied: nvidia-cuda-nvrtc-cu11==11.7.99 in /home/user/anaconda3/envs/pandas/lib/python3.9/site-packages (from torch>=1.6.0->sentence-transformers>=0.4.1->bertopic) (11.7.99)\n",
      "Requirement already satisfied: nvidia-cuda-runtime-cu11==11.7.99 in /home/user/anaconda3/envs/pandas/lib/python3.9/site-packages (from torch>=1.6.0->sentence-transformers>=0.4.1->bertopic) (11.7.99)\n",
      "Requirement already satisfied: nvidia-cuda-cupti-cu11==11.7.101 in /home/user/anaconda3/envs/pandas/lib/python3.9/site-packages (from torch>=1.6.0->sentence-transformers>=0.4.1->bertopic) (11.7.101)\n",
      "Requirement already satisfied: nvidia-cudnn-cu11==8.5.0.96 in /home/user/anaconda3/envs/pandas/lib/python3.9/site-packages (from torch>=1.6.0->sentence-transformers>=0.4.1->bertopic) (8.5.0.96)\n",
      "Requirement already satisfied: nvidia-cublas-cu11==11.10.3.66 in /home/user/anaconda3/envs/pandas/lib/python3.9/site-packages (from torch>=1.6.0->sentence-transformers>=0.4.1->bertopic) (11.10.3.66)\n",
      "Requirement already satisfied: nvidia-cufft-cu11==10.9.0.58 in /home/user/anaconda3/envs/pandas/lib/python3.9/site-packages (from torch>=1.6.0->sentence-transformers>=0.4.1->bertopic) (10.9.0.58)\n",
      "Requirement already satisfied: nvidia-curand-cu11==10.2.10.91 in /home/user/anaconda3/envs/pandas/lib/python3.9/site-packages (from torch>=1.6.0->sentence-transformers>=0.4.1->bertopic) (10.2.10.91)\n",
      "Requirement already satisfied: nvidia-cusolver-cu11==11.4.0.1 in /home/user/anaconda3/envs/pandas/lib/python3.9/site-packages (from torch>=1.6.0->sentence-transformers>=0.4.1->bertopic) (11.4.0.1)\n",
      "Requirement already satisfied: nvidia-cusparse-cu11==11.7.4.91 in /home/user/anaconda3/envs/pandas/lib/python3.9/site-packages (from torch>=1.6.0->sentence-transformers>=0.4.1->bertopic) (11.7.4.91)\n",
      "Requirement already satisfied: nvidia-nccl-cu11==2.14.3 in /home/user/anaconda3/envs/pandas/lib/python3.9/site-packages (from torch>=1.6.0->sentence-transformers>=0.4.1->bertopic) (2.14.3)\n",
      "Requirement already satisfied: nvidia-nvtx-cu11==11.7.91 in /home/user/anaconda3/envs/pandas/lib/python3.9/site-packages (from torch>=1.6.0->sentence-transformers>=0.4.1->bertopic) (11.7.91)\n",
      "Requirement already satisfied: triton==2.0.0 in /home/user/anaconda3/envs/pandas/lib/python3.9/site-packages (from torch>=1.6.0->sentence-transformers>=0.4.1->bertopic) (2.0.0)\n",
      "Requirement already satisfied: setuptools in /home/user/anaconda3/envs/pandas/lib/python3.9/site-packages (from nvidia-cublas-cu11==11.10.3.66->torch>=1.6.0->sentence-transformers>=0.4.1->bertopic) (67.8.0)\n",
      "Requirement already satisfied: wheel in /home/user/anaconda3/envs/pandas/lib/python3.9/site-packages (from nvidia-cublas-cu11==11.10.3.66->torch>=1.6.0->sentence-transformers>=0.4.1->bertopic) (0.38.4)\n",
      "Requirement already satisfied: cmake in /home/user/anaconda3/envs/pandas/lib/python3.9/site-packages (from triton==2.0.0->torch>=1.6.0->sentence-transformers>=0.4.1->bertopic) (3.27.5)\n",
      "Requirement already satisfied: lit in /home/user/anaconda3/envs/pandas/lib/python3.9/site-packages (from triton==2.0.0->torch>=1.6.0->sentence-transformers>=0.4.1->bertopic) (16.0.6)\n",
      "Requirement already satisfied: regex!=2019.12.17 in /home/user/anaconda3/envs/pandas/lib/python3.9/site-packages (from transformers<5.0.0,>=4.6.0->sentence-transformers>=0.4.1->bertopic) (2023.8.8)\n",
      "Requirement already satisfied: tokenizers!=0.11.3,<0.14,>=0.11.1 in /home/user/anaconda3/envs/pandas/lib/python3.9/site-packages (from transformers<5.0.0,>=4.6.0->sentence-transformers>=0.4.1->bertopic) (0.13.3)\n",
      "Requirement already satisfied: safetensors>=0.3.1 in /home/user/anaconda3/envs/pandas/lib/python3.9/site-packages (from transformers<5.0.0,>=4.6.0->sentence-transformers>=0.4.1->bertopic) (0.3.3)\n",
      "Requirement already satisfied: click in /home/user/anaconda3/envs/pandas/lib/python3.9/site-packages (from nltk->sentence-transformers>=0.4.1->bertopic) (8.1.7)\n",
      "Requirement already satisfied: pillow!=8.3.*,>=5.3.0 in /home/user/anaconda3/envs/pandas/lib/python3.9/site-packages (from torchvision->sentence-transformers>=0.4.1->bertopic) (9.4.0)\n",
      "Requirement already satisfied: MarkupSafe>=2.0 in /home/user/anaconda3/envs/pandas/lib/python3.9/site-packages (from jinja2->torch>=1.6.0->sentence-transformers>=0.4.1->bertopic) (2.1.3)\n",
      "Requirement already satisfied: charset-normalizer<4,>=2 in /home/user/anaconda3/envs/pandas/lib/python3.9/site-packages (from requests->huggingface-hub>=0.4.0->sentence-transformers>=0.4.1->bertopic) (2.0.4)\n",
      "Requirement already satisfied: idna<4,>=2.5 in /home/user/anaconda3/envs/pandas/lib/python3.9/site-packages (from requests->huggingface-hub>=0.4.0->sentence-transformers>=0.4.1->bertopic) (3.4)\n",
      "Requirement already satisfied: urllib3<1.27,>=1.21.1 in /home/user/anaconda3/envs/pandas/lib/python3.9/site-packages (from requests->huggingface-hub>=0.4.0->sentence-transformers>=0.4.1->bertopic) (1.26.16)\n",
      "Requirement already satisfied: certifi>=2017.4.17 in /home/user/anaconda3/envs/pandas/lib/python3.9/site-packages (from requests->huggingface-hub>=0.4.0->sentence-transformers>=0.4.1->bertopic) (2023.5.7)\n",
      "Requirement already satisfied: mpmath>=0.19 in /home/user/anaconda3/envs/pandas/lib/python3.9/site-packages (from sympy->torch>=1.6.0->sentence-transformers>=0.4.1->bertopic) (1.3.0)\n",
      "Requirement already satisfied: bertopic[visualization] in /home/user/anaconda3/envs/pandas/lib/python3.9/site-packages (0.15.0)\n",
      "\u001b[33mWARNING: bertopic 0.15.0 does not provide the extra 'visualization'\u001b[0m\u001b[33m\n",
      "\u001b[0mRequirement already satisfied: numpy>=1.20.0 in /home/user/anaconda3/envs/pandas/lib/python3.9/site-packages (from bertopic[visualization]) (1.24.3)\n",
      "Requirement already satisfied: hdbscan>=0.8.29 in /home/user/anaconda3/envs/pandas/lib/python3.9/site-packages (from bertopic[visualization]) (0.8.33)\n",
      "Requirement already satisfied: umap-learn>=0.5.0 in /home/user/anaconda3/envs/pandas/lib/python3.9/site-packages (from bertopic[visualization]) (0.5.4)\n",
      "Requirement already satisfied: pandas>=1.1.5 in /home/user/anaconda3/envs/pandas/lib/python3.9/site-packages (from bertopic[visualization]) (1.5.3)\n",
      "Requirement already satisfied: scikit-learn>=0.22.2.post1 in /home/user/anaconda3/envs/pandas/lib/python3.9/site-packages (from bertopic[visualization]) (1.3.0)\n",
      "Requirement already satisfied: tqdm>=4.41.1 in /home/user/anaconda3/envs/pandas/lib/python3.9/site-packages (from bertopic[visualization]) (4.66.1)\n",
      "Requirement already satisfied: sentence-transformers>=0.4.1 in /home/user/anaconda3/envs/pandas/lib/python3.9/site-packages (from bertopic[visualization]) (2.2.2)\n",
      "Requirement already satisfied: plotly>=4.7.0 in /home/user/anaconda3/envs/pandas/lib/python3.9/site-packages (from bertopic[visualization]) (5.17.0)\n",
      "Requirement already satisfied: cython<3,>=0.27 in /home/user/anaconda3/envs/pandas/lib/python3.9/site-packages (from hdbscan>=0.8.29->bertopic[visualization]) (0.29.36)\n",
      "Requirement already satisfied: scipy>=1.0 in /home/user/anaconda3/envs/pandas/lib/python3.9/site-packages (from hdbscan>=0.8.29->bertopic[visualization]) (1.11.2)\n",
      "Requirement already satisfied: joblib>=1.0 in /home/user/anaconda3/envs/pandas/lib/python3.9/site-packages (from hdbscan>=0.8.29->bertopic[visualization]) (1.3.2)\n",
      "Requirement already satisfied: python-dateutil>=2.8.1 in /home/user/anaconda3/envs/pandas/lib/python3.9/site-packages (from pandas>=1.1.5->bertopic[visualization]) (2.8.2)\n",
      "Requirement already satisfied: pytz>=2020.1 in /home/user/anaconda3/envs/pandas/lib/python3.9/site-packages (from pandas>=1.1.5->bertopic[visualization]) (2022.7)\n",
      "Requirement already satisfied: tenacity>=6.2.0 in /home/user/anaconda3/envs/pandas/lib/python3.9/site-packages (from plotly>=4.7.0->bertopic[visualization]) (8.2.3)\n",
      "Requirement already satisfied: packaging in /home/user/anaconda3/envs/pandas/lib/python3.9/site-packages (from plotly>=4.7.0->bertopic[visualization]) (23.1)\n",
      "Requirement already satisfied: threadpoolctl>=2.0.0 in /home/user/anaconda3/envs/pandas/lib/python3.9/site-packages (from scikit-learn>=0.22.2.post1->bertopic[visualization]) (3.2.0)\n",
      "Requirement already satisfied: transformers<5.0.0,>=4.6.0 in /home/user/anaconda3/envs/pandas/lib/python3.9/site-packages (from sentence-transformers>=0.4.1->bertopic[visualization]) (4.33.2)\n",
      "Requirement already satisfied: torch>=1.6.0 in /home/user/anaconda3/envs/pandas/lib/python3.9/site-packages (from sentence-transformers>=0.4.1->bertopic[visualization]) (2.0.1)\n",
      "Requirement already satisfied: torchvision in /home/user/anaconda3/envs/pandas/lib/python3.9/site-packages (from sentence-transformers>=0.4.1->bertopic[visualization]) (0.15.2)\n",
      "Requirement already satisfied: nltk in /home/user/anaconda3/envs/pandas/lib/python3.9/site-packages (from sentence-transformers>=0.4.1->bertopic[visualization]) (3.8.1)\n",
      "Requirement already satisfied: sentencepiece in /home/user/anaconda3/envs/pandas/lib/python3.9/site-packages (from sentence-transformers>=0.4.1->bertopic[visualization]) (0.1.99)\n",
      "Requirement already satisfied: huggingface-hub>=0.4.0 in /home/user/anaconda3/envs/pandas/lib/python3.9/site-packages (from sentence-transformers>=0.4.1->bertopic[visualization]) (0.17.2)\n",
      "Requirement already satisfied: numba>=0.51.2 in /home/user/anaconda3/envs/pandas/lib/python3.9/site-packages (from umap-learn>=0.5.0->bertopic[visualization]) (0.57.1)\n",
      "Requirement already satisfied: pynndescent>=0.5 in /home/user/anaconda3/envs/pandas/lib/python3.9/site-packages (from umap-learn>=0.5.0->bertopic[visualization]) (0.5.10)\n",
      "Requirement already satisfied: tbb>=2019.0 in /home/user/anaconda3/envs/pandas/lib/python3.9/site-packages (from umap-learn>=0.5.0->bertopic[visualization]) (2021.10.0)\n",
      "Requirement already satisfied: filelock in /home/user/anaconda3/envs/pandas/lib/python3.9/site-packages (from huggingface-hub>=0.4.0->sentence-transformers>=0.4.1->bertopic[visualization]) (3.12.4)\n",
      "Requirement already satisfied: fsspec in /home/user/anaconda3/envs/pandas/lib/python3.9/site-packages (from huggingface-hub>=0.4.0->sentence-transformers>=0.4.1->bertopic[visualization]) (2023.9.1)\n",
      "Requirement already satisfied: requests in /home/user/anaconda3/envs/pandas/lib/python3.9/site-packages (from huggingface-hub>=0.4.0->sentence-transformers>=0.4.1->bertopic[visualization]) (2.29.0)\n",
      "Requirement already satisfied: pyyaml>=5.1 in /home/user/anaconda3/envs/pandas/lib/python3.9/site-packages (from huggingface-hub>=0.4.0->sentence-transformers>=0.4.1->bertopic[visualization]) (6.0.1)\n",
      "Requirement already satisfied: typing-extensions>=3.7.4.3 in /home/user/anaconda3/envs/pandas/lib/python3.9/site-packages (from huggingface-hub>=0.4.0->sentence-transformers>=0.4.1->bertopic[visualization]) (4.6.3)\n",
      "Requirement already satisfied: llvmlite<0.41,>=0.40.0dev0 in /home/user/anaconda3/envs/pandas/lib/python3.9/site-packages (from numba>=0.51.2->umap-learn>=0.5.0->bertopic[visualization]) (0.40.1)\n",
      "Requirement already satisfied: six>=1.5 in /home/user/anaconda3/envs/pandas/lib/python3.9/site-packages (from python-dateutil>=2.8.1->pandas>=1.1.5->bertopic[visualization]) (1.16.0)\n",
      "Requirement already satisfied: sympy in /home/user/anaconda3/envs/pandas/lib/python3.9/site-packages (from torch>=1.6.0->sentence-transformers>=0.4.1->bertopic[visualization]) (1.12)\n",
      "Requirement already satisfied: networkx in /home/user/anaconda3/envs/pandas/lib/python3.9/site-packages (from torch>=1.6.0->sentence-transformers>=0.4.1->bertopic[visualization]) (3.1)\n",
      "Requirement already satisfied: jinja2 in /home/user/anaconda3/envs/pandas/lib/python3.9/site-packages (from torch>=1.6.0->sentence-transformers>=0.4.1->bertopic[visualization]) (3.1.2)\n",
      "Requirement already satisfied: nvidia-cuda-nvrtc-cu11==11.7.99 in /home/user/anaconda3/envs/pandas/lib/python3.9/site-packages (from torch>=1.6.0->sentence-transformers>=0.4.1->bertopic[visualization]) (11.7.99)\n",
      "Requirement already satisfied: nvidia-cuda-runtime-cu11==11.7.99 in /home/user/anaconda3/envs/pandas/lib/python3.9/site-packages (from torch>=1.6.0->sentence-transformers>=0.4.1->bertopic[visualization]) (11.7.99)\n",
      "Requirement already satisfied: nvidia-cuda-cupti-cu11==11.7.101 in /home/user/anaconda3/envs/pandas/lib/python3.9/site-packages (from torch>=1.6.0->sentence-transformers>=0.4.1->bertopic[visualization]) (11.7.101)\n",
      "Requirement already satisfied: nvidia-cudnn-cu11==8.5.0.96 in /home/user/anaconda3/envs/pandas/lib/python3.9/site-packages (from torch>=1.6.0->sentence-transformers>=0.4.1->bertopic[visualization]) (8.5.0.96)\n",
      "Requirement already satisfied: nvidia-cublas-cu11==11.10.3.66 in /home/user/anaconda3/envs/pandas/lib/python3.9/site-packages (from torch>=1.6.0->sentence-transformers>=0.4.1->bertopic[visualization]) (11.10.3.66)\n",
      "Requirement already satisfied: nvidia-cufft-cu11==10.9.0.58 in /home/user/anaconda3/envs/pandas/lib/python3.9/site-packages (from torch>=1.6.0->sentence-transformers>=0.4.1->bertopic[visualization]) (10.9.0.58)\n",
      "Requirement already satisfied: nvidia-curand-cu11==10.2.10.91 in /home/user/anaconda3/envs/pandas/lib/python3.9/site-packages (from torch>=1.6.0->sentence-transformers>=0.4.1->bertopic[visualization]) (10.2.10.91)\n",
      "Requirement already satisfied: nvidia-cusolver-cu11==11.4.0.1 in /home/user/anaconda3/envs/pandas/lib/python3.9/site-packages (from torch>=1.6.0->sentence-transformers>=0.4.1->bertopic[visualization]) (11.4.0.1)\n",
      "Requirement already satisfied: nvidia-cusparse-cu11==11.7.4.91 in /home/user/anaconda3/envs/pandas/lib/python3.9/site-packages (from torch>=1.6.0->sentence-transformers>=0.4.1->bertopic[visualization]) (11.7.4.91)\n",
      "Requirement already satisfied: nvidia-nccl-cu11==2.14.3 in /home/user/anaconda3/envs/pandas/lib/python3.9/site-packages (from torch>=1.6.0->sentence-transformers>=0.4.1->bertopic[visualization]) (2.14.3)\n",
      "Requirement already satisfied: nvidia-nvtx-cu11==11.7.91 in /home/user/anaconda3/envs/pandas/lib/python3.9/site-packages (from torch>=1.6.0->sentence-transformers>=0.4.1->bertopic[visualization]) (11.7.91)\n",
      "Requirement already satisfied: triton==2.0.0 in /home/user/anaconda3/envs/pandas/lib/python3.9/site-packages (from torch>=1.6.0->sentence-transformers>=0.4.1->bertopic[visualization]) (2.0.0)\n",
      "Requirement already satisfied: setuptools in /home/user/anaconda3/envs/pandas/lib/python3.9/site-packages (from nvidia-cublas-cu11==11.10.3.66->torch>=1.6.0->sentence-transformers>=0.4.1->bertopic[visualization]) (67.8.0)\n",
      "Requirement already satisfied: wheel in /home/user/anaconda3/envs/pandas/lib/python3.9/site-packages (from nvidia-cublas-cu11==11.10.3.66->torch>=1.6.0->sentence-transformers>=0.4.1->bertopic[visualization]) (0.38.4)\n",
      "Requirement already satisfied: cmake in /home/user/anaconda3/envs/pandas/lib/python3.9/site-packages (from triton==2.0.0->torch>=1.6.0->sentence-transformers>=0.4.1->bertopic[visualization]) (3.27.5)\n",
      "Requirement already satisfied: lit in /home/user/anaconda3/envs/pandas/lib/python3.9/site-packages (from triton==2.0.0->torch>=1.6.0->sentence-transformers>=0.4.1->bertopic[visualization]) (16.0.6)\n",
      "Requirement already satisfied: regex!=2019.12.17 in /home/user/anaconda3/envs/pandas/lib/python3.9/site-packages (from transformers<5.0.0,>=4.6.0->sentence-transformers>=0.4.1->bertopic[visualization]) (2023.8.8)\n",
      "Requirement already satisfied: tokenizers!=0.11.3,<0.14,>=0.11.1 in /home/user/anaconda3/envs/pandas/lib/python3.9/site-packages (from transformers<5.0.0,>=4.6.0->sentence-transformers>=0.4.1->bertopic[visualization]) (0.13.3)\n",
      "Requirement already satisfied: safetensors>=0.3.1 in /home/user/anaconda3/envs/pandas/lib/python3.9/site-packages (from transformers<5.0.0,>=4.6.0->sentence-transformers>=0.4.1->bertopic[visualization]) (0.3.3)\n",
      "Requirement already satisfied: click in /home/user/anaconda3/envs/pandas/lib/python3.9/site-packages (from nltk->sentence-transformers>=0.4.1->bertopic[visualization]) (8.1.7)\n",
      "Requirement already satisfied: pillow!=8.3.*,>=5.3.0 in /home/user/anaconda3/envs/pandas/lib/python3.9/site-packages (from torchvision->sentence-transformers>=0.4.1->bertopic[visualization]) (9.4.0)\n",
      "Requirement already satisfied: MarkupSafe>=2.0 in /home/user/anaconda3/envs/pandas/lib/python3.9/site-packages (from jinja2->torch>=1.6.0->sentence-transformers>=0.4.1->bertopic[visualization]) (2.1.3)\n",
      "Requirement already satisfied: charset-normalizer<4,>=2 in /home/user/anaconda3/envs/pandas/lib/python3.9/site-packages (from requests->huggingface-hub>=0.4.0->sentence-transformers>=0.4.1->bertopic[visualization]) (2.0.4)\n",
      "Requirement already satisfied: idna<4,>=2.5 in /home/user/anaconda3/envs/pandas/lib/python3.9/site-packages (from requests->huggingface-hub>=0.4.0->sentence-transformers>=0.4.1->bertopic[visualization]) (3.4)\n",
      "Requirement already satisfied: urllib3<1.27,>=1.21.1 in /home/user/anaconda3/envs/pandas/lib/python3.9/site-packages (from requests->huggingface-hub>=0.4.0->sentence-transformers>=0.4.1->bertopic[visualization]) (1.26.16)\n",
      "Requirement already satisfied: certifi>=2017.4.17 in /home/user/anaconda3/envs/pandas/lib/python3.9/site-packages (from requests->huggingface-hub>=0.4.0->sentence-transformers>=0.4.1->bertopic[visualization]) (2023.5.7)\n",
      "Requirement already satisfied: mpmath>=0.19 in /home/user/anaconda3/envs/pandas/lib/python3.9/site-packages (from sympy->torch>=1.6.0->sentence-transformers>=0.4.1->bertopic[visualization]) (1.3.0)\n"
     ]
    }
   ],
   "source": [
    "#Bertopic 설치\n",
    "!pip install bertopic\n",
    "!pip install bertopic[visualization]"
   ]
  },
  {
   "cell_type": "code",
   "execution_count": 2,
   "metadata": {},
   "outputs": [
    {
     "name": "stderr",
     "output_type": "stream",
     "text": [
      "/home/user/anaconda3/envs/pandas/lib/python3.9/site-packages/tqdm/auto.py:21: TqdmWarning: IProgress not found. Please update jupyter and ipywidgets. See https://ipywidgets.readthedocs.io/en/stable/user_install.html\n",
      "  from .autonotebook import tqdm as notebook_tqdm\n",
      "2023-09-21 15:21:05.326544: I tensorflow/core/util/util.cc:169] oneDNN custom operations are on. You may see slightly different numerical results due to floating-point round-off errors from different computation orders. To turn them off, set the environment variable `TF_ENABLE_ONEDNN_OPTS=0`.\n",
      "2023-09-21 15:21:05.388878: W tensorflow/stream_executor/platform/default/dso_loader.cc:64] Could not load dynamic library 'libcudart.so.11.0'; dlerror: libcudart.so.11.0: cannot open shared object file: No such file or directory\n",
      "2023-09-21 15:21:05.388919: I tensorflow/stream_executor/cuda/cudart_stub.cc:29] Ignore above cudart dlerror if you do not have a GPU set up on your machine.\n"
     ]
    }
   ],
   "source": [
    "from tqdm import tqdm\n",
    "from sklearn.feature_extraction.text import CountVectorizer\n",
    "from bertopic import BERTopic\n",
    "import pandas as pd\n",
    "from ekonlpy import Mecab\n",
    "mecab = Mecab()"
   ]
  },
  {
   "cell_type": "code",
   "execution_count": 5,
   "metadata": {},
   "outputs": [],
   "source": [
    "preprocessed_documents = pd.read_csv('../data/news/pos_save_9020_result_1.csv')"
   ]
  },
  {
   "cell_type": "code",
   "execution_count": 6,
   "metadata": {},
   "outputs": [
    {
     "data": {
      "text/plain": [
       "0         금융 금감원 청년 디지털 인재 양성 금융 글로벌 캠퍼스 디지털 파워 프로젝트 포식 ...\n",
       "1         예금 반갑 … 대출 금리 뛸까 불안 한동안 자취 감췄 은행 연 정기 예금 돌아왔 예...\n",
       "2         진옥동 수산물 소비 챌린지 동참 진옥동 신한 금융 그룹 사진 수산물 소비 어촌 휴가...\n",
       "3         정태영 야심작 현대 카드 다빈치 모텔 개최 달 앞 현대 카드 사흘 이태원 현대 카드...\n",
       "4         HMM 인수 하림 동원 LX 독일 해운 참전 에이치 엠 엠 HMM 옛 현대 상선 매...\n",
       "                                ...                        \n",
       "209955    부실기업 가져 갈래 춘궁기 품앗이 나선 사모 투자 업계 기사 국내 해외 투자 정보 ...\n",
       "209956    속보 이창용 금 통 위원 최종 금리 둬야 데일리 최정희 이창용 한국은행 총재 회견 ...\n",
       "209957    일본 원전 염수 방류 임박 … 충남 원자력 연과 대응 TF 구성 환경정화 운반선 해...\n",
       "209958    한국지역난방공사 에너지 히어로 레이스 개최 한난 헤럴드 경제 성남 박정규 한국지역난...\n",
       "209959    현대 카드 장 미셸 바스키아 앤디 워홀 전시 개최 달 용산구 한남동 위치 현대 카드...\n",
       "Name: target_words, Length: 209960, dtype: object"
      ]
     },
     "execution_count": 6,
     "metadata": {},
     "output_type": "execute_result"
    }
   ],
   "source": [
    "preprocessed_documents[\"target_words\"]"
   ]
  },
  {
   "cell_type": "code",
   "execution_count": 7,
   "metadata": {},
   "outputs": [],
   "source": [
    "vectorizer = CountVectorizer(tokenizer=lambda x: x.split(), max_features=3000)"
   ]
  },
  {
   "cell_type": "code",
   "execution_count": 8,
   "metadata": {},
   "outputs": [],
   "source": [
    "model = BERTopic(embedding_model=\"sentence-transformers/xlm-r-100langs-bert-base-nli-stsb-mean-tokens\", \\\n",
    "                 vectorizer_model=vectorizer,\n",
    "                 nr_topics=20,\n",
    "                 top_n_words=5,\n",
    "                 calculate_probabilities=True)"
   ]
  },
  {
   "cell_type": "code",
   "execution_count": null,
   "metadata": {},
   "outputs": [],
   "source": [
    "topics, probs = model.fit_transform(preprocessed_documents[\"target_words\"])"
   ]
  },
  {
   "cell_type": "code",
   "execution_count": null,
   "metadata": {},
   "outputs": [],
   "source": [
    "embedding_model = \"sentence-transformers/xlm-r-100langs-bert-base-nli-stsb-mean-tokens\"\n",
    "model.save(\"./model_case/topic_0920_model\", serialization=\"safetensors\", save_embedding_model=embedding_model)"
   ]
  },
  {
   "cell_type": "code",
   "execution_count": null,
   "metadata": {},
   "outputs": [],
   "source": [
    "for i in range(0, 50):\n",
    "  print(i,'번째 토픽 :', model.get_topic(i))"
   ]
  },
  {
   "cell_type": "code",
   "execution_count": null,
   "metadata": {},
   "outputs": [],
   "source": [
    "model.visualize_barchart()"
   ]
  },
  {
   "cell_type": "code",
   "execution_count": null,
   "metadata": {},
   "outputs": [],
   "source": [
    "model.visualize_heatmap()"
   ]
  },
  {
   "cell_type": "code",
   "execution_count": null,
   "metadata": {},
   "outputs": [],
   "source": [
    "for doc, topic, prob in zip(preprocessed_documents[\"target_words\"], topics, probs):\n",
    "    print(f\"문서: {doc}\")\n",
    "    print(f\"토픽: {topic}\")\n",
    "    print(f\"확률: {prob}\")\n",
    "    print()"
   ]
  }
 ],
 "metadata": {
  "kernelspec": {
   "display_name": "pandas",
   "language": "python",
   "name": "python3"
  },
  "language_info": {
   "codemirror_mode": {
    "name": "ipython",
    "version": 3
   },
   "file_extension": ".py",
   "mimetype": "text/x-python",
   "name": "python",
   "nbconvert_exporter": "python",
   "pygments_lexer": "ipython3",
   "version": "3.9.16"
  },
  "orig_nbformat": 4
 },
 "nbformat": 4,
 "nbformat_minor": 2
}
